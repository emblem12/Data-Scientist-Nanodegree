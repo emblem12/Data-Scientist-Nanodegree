{
 "cells": [
  {
   "cell_type": "markdown",
   "id": "5d66f54b",
   "metadata": {},
   "source": [
    "## Airplane Crashes and Fatalities Since 1908 \n",
    "\n",
    "### By Jamil Abdulai"
   ]
  },
  {
   "cell_type": "markdown",
   "id": "61f508fc",
   "metadata": {},
   "source": [
    "### Table of Contents\n",
    "\n",
    "- Introduction\n",
    "- Exploratory Data Analysis\n",
    "- Conclusion\n"
   ]
  },
  {
   "cell_type": "markdown",
   "id": "4bee7c99",
   "metadata": {},
   "source": [
    "This project was inspired by the dire concern of aviation safety with the dataset acquired from Kaggle https://www.kaggle.com/datasets/thedevastator/airplane-crashes-and-fatalities. The below CRISP-DM methodology will be incorporated to analyze the data.\n",
    "- Business Understanding\n",
    "- Data Understanding\n",
    "- Data Preparation\n",
    "- Data Modeling\n",
    "- Result Evaluation\n",
    "- Deployment"
   ]
  },
  {
   "cell_type": "markdown",
   "id": "7a4c2d8e",
   "metadata": {},
   "source": [
    "## Business Understanding"
   ]
  },
  {
   "cell_type": "markdown",
   "id": "ff1a3b26",
   "metadata": {},
   "source": [
    "Aircraft never crash because of one single issue. It’s almost always a combination of factors that lead to an accident. Whilst flying is extremely safe, the typical reasons as to why planes crash include pilot error, technical failures, bad weather, terrorism, and pilot fatigue.\n",
    "\n",
    "There is never one single cause attributed to pilot an aircraft crash. For example, if the aircraft suffers a serious technical problem (but one that shouldn’t result in the loss of an aircraft) and its subsequently mishandled by the pilots resulting in a crash, does that count as pilot error or mechanical breakdown? The mechanical breakdown on it’s own shouldn’t have meant the plane crashed, but could have been handled correctly by the pilots. Therefore, both are causal factors. Some of the questions that will be analyzed are as follows:\n",
    "\n",
    "- What type of aircraft is involved in the most crashes ?\n",
    "- What is the correlation between Fatalities of Passengers to Numbr Aboard ?\n",
    "- Which Locations Recorded the Most Crashes ?\n",
    "- Which Operating Airlines Recorded the Most Crashes ?"
   ]
  },
  {
   "cell_type": "markdown",
   "id": "cb540861",
   "metadata": {},
   "source": [
    "## Data Understanding\n",
    "\n",
    "This dataset showcases Boeing 707 accidents that have occurred since 1948. The data includes information on the date, time, location, operator, flight number, route, type of aircraft, registration number, cn/In number of persons on board, fatalities, ground fatalities, and a summary of the accident"
   ]
  },
  {
   "cell_type": "markdown",
   "id": "14942dc8",
   "metadata": {},
   "source": [
    "## Exploratory Data Analysis"
   ]
  },
  {
   "cell_type": "markdown",
   "id": "733f3629",
   "metadata": {},
   "source": [
    "### Data Preparation"
   ]
  },
  {
   "cell_type": "code",
   "execution_count": 1,
   "id": "f9f2a620",
   "metadata": {},
   "outputs": [],
   "source": [
    "# import all packages and set plots to be embedded inline\n",
    "import numpy as np\n",
    "import pandas as pd\n",
    "import matplotlib.pyplot as plt\n",
    "import seaborn as sb\n",
    "sb.set()\n",
    "\n",
    "%matplotlib inline"
   ]
  },
  {
   "cell_type": "code",
   "execution_count": 2,
   "id": "6a76c5c2",
   "metadata": {},
   "outputs": [
    {
     "data": {
      "text/html": [
       "<div>\n",
       "<style scoped>\n",
       "    .dataframe tbody tr th:only-of-type {\n",
       "        vertical-align: middle;\n",
       "    }\n",
       "\n",
       "    .dataframe tbody tr th {\n",
       "        vertical-align: top;\n",
       "    }\n",
       "\n",
       "    .dataframe thead th {\n",
       "        text-align: right;\n",
       "    }\n",
       "</style>\n",
       "<table border=\"1\" class=\"dataframe\">\n",
       "  <thead>\n",
       "    <tr style=\"text-align: right;\">\n",
       "      <th></th>\n",
       "      <th>index</th>\n",
       "      <th>Date</th>\n",
       "      <th>Time</th>\n",
       "      <th>Location</th>\n",
       "      <th>Operator</th>\n",
       "      <th>Flight #</th>\n",
       "      <th>Route</th>\n",
       "      <th>Type</th>\n",
       "      <th>Registration</th>\n",
       "      <th>cn/In</th>\n",
       "      <th>Aboard</th>\n",
       "      <th>Fatalities</th>\n",
       "      <th>Ground</th>\n",
       "      <th>Summary</th>\n",
       "    </tr>\n",
       "  </thead>\n",
       "  <tbody>\n",
       "    <tr>\n",
       "      <th>0</th>\n",
       "      <td>0</td>\n",
       "      <td>9/17/1908</td>\n",
       "      <td>17:18</td>\n",
       "      <td>Fort Myer, Virginia</td>\n",
       "      <td>Military - U.S. Army</td>\n",
       "      <td>NaN</td>\n",
       "      <td>Demonstration</td>\n",
       "      <td>Wright Flyer III</td>\n",
       "      <td>NaN</td>\n",
       "      <td>1</td>\n",
       "      <td>2.0</td>\n",
       "      <td>1.0</td>\n",
       "      <td>0.0</td>\n",
       "      <td>During a demonstration flight, a U.S. Army fly...</td>\n",
       "    </tr>\n",
       "    <tr>\n",
       "      <th>1</th>\n",
       "      <td>1</td>\n",
       "      <td>7/12/1912</td>\n",
       "      <td>6:30</td>\n",
       "      <td>AtlantiCity, New Jersey</td>\n",
       "      <td>Military - U.S. Navy</td>\n",
       "      <td>NaN</td>\n",
       "      <td>Test flight</td>\n",
       "      <td>Dirigible</td>\n",
       "      <td>NaN</td>\n",
       "      <td>NaN</td>\n",
       "      <td>5.0</td>\n",
       "      <td>5.0</td>\n",
       "      <td>0.0</td>\n",
       "      <td>First U.S. dirigible Akron exploded just offsh...</td>\n",
       "    </tr>\n",
       "    <tr>\n",
       "      <th>2</th>\n",
       "      <td>2</td>\n",
       "      <td>8/6/1913</td>\n",
       "      <td>NaN</td>\n",
       "      <td>Victoria, British Columbia, Canada</td>\n",
       "      <td>Private</td>\n",
       "      <td>-</td>\n",
       "      <td>NaN</td>\n",
       "      <td>Curtiss seaplane</td>\n",
       "      <td>NaN</td>\n",
       "      <td>NaN</td>\n",
       "      <td>1.0</td>\n",
       "      <td>1.0</td>\n",
       "      <td>0.0</td>\n",
       "      <td>The first fatal airplane accident in Canada oc...</td>\n",
       "    </tr>\n",
       "    <tr>\n",
       "      <th>3</th>\n",
       "      <td>3</td>\n",
       "      <td>9/9/1913</td>\n",
       "      <td>18:30</td>\n",
       "      <td>Over the North Sea</td>\n",
       "      <td>Military - German Navy</td>\n",
       "      <td>NaN</td>\n",
       "      <td>NaN</td>\n",
       "      <td>Zeppelin L-1 (airship)</td>\n",
       "      <td>NaN</td>\n",
       "      <td>NaN</td>\n",
       "      <td>20.0</td>\n",
       "      <td>14.0</td>\n",
       "      <td>0.0</td>\n",
       "      <td>The airship flew into a thunderstorm and encou...</td>\n",
       "    </tr>\n",
       "    <tr>\n",
       "      <th>4</th>\n",
       "      <td>4</td>\n",
       "      <td>10/17/1913</td>\n",
       "      <td>10:30</td>\n",
       "      <td>Near Johannisthal, Germany</td>\n",
       "      <td>Military - German Navy</td>\n",
       "      <td>NaN</td>\n",
       "      <td>NaN</td>\n",
       "      <td>Zeppelin L-2 (airship)</td>\n",
       "      <td>NaN</td>\n",
       "      <td>NaN</td>\n",
       "      <td>30.0</td>\n",
       "      <td>30.0</td>\n",
       "      <td>0.0</td>\n",
       "      <td>Hydrogen gas which was being vented was sucked...</td>\n",
       "    </tr>\n",
       "    <tr>\n",
       "      <th>5</th>\n",
       "      <td>5</td>\n",
       "      <td>3/5/1915</td>\n",
       "      <td>1:00</td>\n",
       "      <td>Tienen, Belgium</td>\n",
       "      <td>Military - German Navy</td>\n",
       "      <td>NaN</td>\n",
       "      <td>NaN</td>\n",
       "      <td>Zeppelin L-8 (airship)</td>\n",
       "      <td>NaN</td>\n",
       "      <td>NaN</td>\n",
       "      <td>41.0</td>\n",
       "      <td>21.0</td>\n",
       "      <td>0.0</td>\n",
       "      <td>Crashed into trees while attempting to land af...</td>\n",
       "    </tr>\n",
       "    <tr>\n",
       "      <th>6</th>\n",
       "      <td>6</td>\n",
       "      <td>9/3/1915</td>\n",
       "      <td>15:20</td>\n",
       "      <td>Off Cuxhaven, Germany</td>\n",
       "      <td>Military - German Navy</td>\n",
       "      <td>NaN</td>\n",
       "      <td>NaN</td>\n",
       "      <td>Zeppelin L-10 (airship)</td>\n",
       "      <td>NaN</td>\n",
       "      <td>NaN</td>\n",
       "      <td>19.0</td>\n",
       "      <td>19.0</td>\n",
       "      <td>0.0</td>\n",
       "      <td>Exploded and burned near Neuwerk Island,  when...</td>\n",
       "    </tr>\n",
       "    <tr>\n",
       "      <th>7</th>\n",
       "      <td>7</td>\n",
       "      <td>7/28/1916</td>\n",
       "      <td>NaN</td>\n",
       "      <td>Near Jambol, Bulgeria</td>\n",
       "      <td>Military - German Army</td>\n",
       "      <td>NaN</td>\n",
       "      <td>NaN</td>\n",
       "      <td>Schutte-Lanz S-L-10 (airship)</td>\n",
       "      <td>NaN</td>\n",
       "      <td>NaN</td>\n",
       "      <td>20.0</td>\n",
       "      <td>20.0</td>\n",
       "      <td>0.0</td>\n",
       "      <td>Crashed near the Black Sea, cause unknown.</td>\n",
       "    </tr>\n",
       "    <tr>\n",
       "      <th>8</th>\n",
       "      <td>8</td>\n",
       "      <td>9/24/1916</td>\n",
       "      <td>1:00</td>\n",
       "      <td>Billericay, England</td>\n",
       "      <td>Military - German Navy</td>\n",
       "      <td>NaN</td>\n",
       "      <td>NaN</td>\n",
       "      <td>Zeppelin L-32 (airship)</td>\n",
       "      <td>NaN</td>\n",
       "      <td>NaN</td>\n",
       "      <td>22.0</td>\n",
       "      <td>22.0</td>\n",
       "      <td>0.0</td>\n",
       "      <td>Shot down by British aircraft crashing in flames.</td>\n",
       "    </tr>\n",
       "    <tr>\n",
       "      <th>9</th>\n",
       "      <td>9</td>\n",
       "      <td>10/1/1916</td>\n",
       "      <td>23:45</td>\n",
       "      <td>Potters Bar, England</td>\n",
       "      <td>Military - German Navy</td>\n",
       "      <td>NaN</td>\n",
       "      <td>NaN</td>\n",
       "      <td>Zeppelin L-31 (airship)</td>\n",
       "      <td>NaN</td>\n",
       "      <td>NaN</td>\n",
       "      <td>19.0</td>\n",
       "      <td>19.0</td>\n",
       "      <td>0.0</td>\n",
       "      <td>Shot down in flames by the British 39th Home D...</td>\n",
       "    </tr>\n",
       "  </tbody>\n",
       "</table>\n",
       "</div>"
      ],
      "text/plain": [
       "   index        Date   Time                            Location  \\\n",
       "0      0   9/17/1908  17:18                 Fort Myer, Virginia   \n",
       "1      1   7/12/1912   6:30             AtlantiCity, New Jersey   \n",
       "2      2    8/6/1913    NaN  Victoria, British Columbia, Canada   \n",
       "3      3    9/9/1913  18:30                  Over the North Sea   \n",
       "4      4  10/17/1913  10:30          Near Johannisthal, Germany   \n",
       "5      5    3/5/1915   1:00                     Tienen, Belgium   \n",
       "6      6    9/3/1915  15:20               Off Cuxhaven, Germany   \n",
       "7      7   7/28/1916    NaN               Near Jambol, Bulgeria   \n",
       "8      8   9/24/1916   1:00                 Billericay, England   \n",
       "9      9   10/1/1916  23:45                Potters Bar, England   \n",
       "\n",
       "                 Operator Flight #          Route  \\\n",
       "0    Military - U.S. Army      NaN  Demonstration   \n",
       "1    Military - U.S. Navy      NaN    Test flight   \n",
       "2                 Private        -            NaN   \n",
       "3  Military - German Navy      NaN            NaN   \n",
       "4  Military - German Navy      NaN            NaN   \n",
       "5  Military - German Navy      NaN            NaN   \n",
       "6  Military - German Navy      NaN            NaN   \n",
       "7  Military - German Army      NaN            NaN   \n",
       "8  Military - German Navy      NaN            NaN   \n",
       "9  Military - German Navy      NaN            NaN   \n",
       "\n",
       "                            Type Registration cn/In  Aboard  Fatalities  \\\n",
       "0               Wright Flyer III          NaN     1     2.0         1.0   \n",
       "1                      Dirigible          NaN   NaN     5.0         5.0   \n",
       "2               Curtiss seaplane          NaN   NaN     1.0         1.0   \n",
       "3         Zeppelin L-1 (airship)          NaN   NaN    20.0        14.0   \n",
       "4         Zeppelin L-2 (airship)          NaN   NaN    30.0        30.0   \n",
       "5         Zeppelin L-8 (airship)          NaN   NaN    41.0        21.0   \n",
       "6        Zeppelin L-10 (airship)          NaN   NaN    19.0        19.0   \n",
       "7  Schutte-Lanz S-L-10 (airship)          NaN   NaN    20.0        20.0   \n",
       "8        Zeppelin L-32 (airship)          NaN   NaN    22.0        22.0   \n",
       "9        Zeppelin L-31 (airship)          NaN   NaN    19.0        19.0   \n",
       "\n",
       "   Ground                                            Summary  \n",
       "0     0.0  During a demonstration flight, a U.S. Army fly...  \n",
       "1     0.0  First U.S. dirigible Akron exploded just offsh...  \n",
       "2     0.0  The first fatal airplane accident in Canada oc...  \n",
       "3     0.0  The airship flew into a thunderstorm and encou...  \n",
       "4     0.0  Hydrogen gas which was being vented was sucked...  \n",
       "5     0.0  Crashed into trees while attempting to land af...  \n",
       "6     0.0  Exploded and burned near Neuwerk Island,  when...  \n",
       "7     0.0         Crashed near the Black Sea, cause unknown.  \n",
       "8     0.0  Shot down by British aircraft crashing in flames.  \n",
       "9     0.0  Shot down in flames by the British 39th Home D...  "
      ]
     },
     "execution_count": 2,
     "metadata": {},
     "output_type": "execute_result"
    }
   ],
   "source": [
    "# read the dataset and observe\n",
    "df = pd.read_csv('Airplane_Crashes_and_Fatalities_Since_1908.csv')\n",
    "\n",
    "df.head(10)"
   ]
  },
  {
   "cell_type": "markdown",
   "id": "c7635998",
   "metadata": {},
   "source": [
    "### Assessing the data"
   ]
  },
  {
   "cell_type": "code",
   "execution_count": 3,
   "id": "48433f3f",
   "metadata": {},
   "outputs": [
    {
     "data": {
      "text/plain": [
       "(5268, 14)"
      ]
     },
     "execution_count": 3,
     "metadata": {},
     "output_type": "execute_result"
    }
   ],
   "source": [
    "# number of rows and columns\n",
    "df.shape"
   ]
  },
  {
   "cell_type": "markdown",
   "id": "920bef20",
   "metadata": {},
   "source": [
    "The dataset contains 14 columns and 5268 rows\n",
    "\n",
    "- index: the index of the row\n",
    "- Date: the date of the incident\n",
    "- Time: the time of the incident\n",
    "- Location: the location of the incident\n",
    "- Operator: the operator of the aircraft\n",
    "- Flight #: the flight number of the aircraft\n",
    "- Route: the route of the aircraft\n",
    "- Type: the type of aircraft\n",
    "- Registration: the registration of the aircraft\n",
    "- cn/In: the construction number/serial number of the aircraft\n",
    "- Aboard: the number of people on board the aircraft\n",
    "- Fatalities: the number of fatalities in the incident\n",
    "- Ground: the number of people on the ground killed in the incident\n",
    "- Summary: a summary of the incident\n"
   ]
  },
  {
   "cell_type": "code",
   "execution_count": 4,
   "id": "48da9d5a",
   "metadata": {
    "scrolled": false
   },
   "outputs": [
    {
     "name": "stdout",
     "output_type": "stream",
     "text": [
      "<class 'pandas.core.frame.DataFrame'>\n",
      "RangeIndex: 5268 entries, 0 to 5267\n",
      "Data columns (total 14 columns):\n",
      " #   Column        Non-Null Count  Dtype  \n",
      "---  ------        --------------  -----  \n",
      " 0   index         5268 non-null   int64  \n",
      " 1   Date          5268 non-null   object \n",
      " 2   Time          3049 non-null   object \n",
      " 3   Location      5248 non-null   object \n",
      " 4   Operator      5250 non-null   object \n",
      " 5   Flight #      1069 non-null   object \n",
      " 6   Route         3562 non-null   object \n",
      " 7   Type          5241 non-null   object \n",
      " 8   Registration  4933 non-null   object \n",
      " 9   cn/In         4040 non-null   object \n",
      " 10  Aboard        5246 non-null   float64\n",
      " 11  Fatalities    5256 non-null   float64\n",
      " 12  Ground        5246 non-null   float64\n",
      " 13  Summary       4878 non-null   object \n",
      "dtypes: float64(3), int64(1), object(10)\n",
      "memory usage: 576.3+ KB\n"
     ]
    }
   ],
   "source": [
    "# quick overview of the dataset\n",
    "df.info()"
   ]
  },
  {
   "cell_type": "code",
   "execution_count": 5,
   "id": "6fe80b3b",
   "metadata": {},
   "outputs": [
    {
     "data": {
      "text/plain": [
       "0       During a demonstration flight, a U.S. Army fly...\n",
       "1       First U.S. dirigible Akron exploded just offsh...\n",
       "2       The first fatal airplane accident in Canada oc...\n",
       "3       The airship flew into a thunderstorm and encou...\n",
       "4       Hydrogen gas which was being vented was sucked...\n",
       "                              ...                        \n",
       "5263    While on approach, the military transport cras...\n",
       "5264    The cargo plane crashed while on approach to I...\n",
       "5265    The Airbus went missing over the AtlantiOcean ...\n",
       "5266    The air ambulance crashed into hills while att...\n",
       "5267    The military transport went missing while en r...\n",
       "Name: Summary, Length: 5268, dtype: object"
      ]
     },
     "execution_count": 5,
     "metadata": {},
     "output_type": "execute_result"
    }
   ],
   "source": [
    "df.Summary"
   ]
  },
  {
   "cell_type": "markdown",
   "id": "086a1d8a",
   "metadata": {},
   "source": [
    "### Data cleaning"
   ]
  },
  {
   "cell_type": "code",
   "execution_count": 6,
   "id": "b6a8dc9c",
   "metadata": {},
   "outputs": [
    {
     "data": {
      "text/plain": [
       "0"
      ]
     },
     "execution_count": 6,
     "metadata": {},
     "output_type": "execute_result"
    }
   ],
   "source": [
    "# observe for data duplications\n",
    "df.duplicated().sum()"
   ]
  },
  {
   "cell_type": "markdown",
   "id": "c149d3bd",
   "metadata": {},
   "source": [
    "There are currently no duplicated values"
   ]
  },
  {
   "cell_type": "code",
   "execution_count": 7,
   "id": "b65096ca",
   "metadata": {},
   "outputs": [
    {
     "data": {
      "text/plain": [
       "index              0\n",
       "Date               0\n",
       "Time            2219\n",
       "Location          20\n",
       "Operator          18\n",
       "Flight #        4199\n",
       "Route           1706\n",
       "Type              27\n",
       "Registration     335\n",
       "cn/In           1228\n",
       "Aboard            22\n",
       "Fatalities        12\n",
       "Ground            22\n",
       "Summary          390\n",
       "dtype: int64"
      ]
     },
     "execution_count": 7,
     "metadata": {},
     "output_type": "execute_result"
    }
   ],
   "source": [
    "# observe all null values\n",
    "df.isnull().sum()"
   ]
  },
  {
   "cell_type": "code",
   "execution_count": 8,
   "id": "45341049",
   "metadata": {},
   "outputs": [],
   "source": [
    "# drop null columns\n",
    "df.dropna(axis = 0, inplace = True)"
   ]
  },
  {
   "cell_type": "code",
   "execution_count": 9,
   "id": "dcf6817c",
   "metadata": {},
   "outputs": [
    {
     "data": {
      "text/plain": [
       "(944, 14)"
      ]
     },
     "execution_count": 9,
     "metadata": {},
     "output_type": "execute_result"
    }
   ],
   "source": [
    "# observe the dataset again\n",
    "df.shape"
   ]
  },
  {
   "cell_type": "markdown",
   "id": "5de4e9f4",
   "metadata": {},
   "source": [
    "There are currently 944 rows with 14 columns after null drops."
   ]
  },
  {
   "cell_type": "code",
   "execution_count": 10,
   "id": "0a46f1d5",
   "metadata": {},
   "outputs": [],
   "source": [
    "# drop unused columns\n",
    "df.drop(['Flight #', 'Time', 'cn/In', 'Registration'], axis = 1, inplace = True)"
   ]
  },
  {
   "cell_type": "markdown",
   "id": "a3db21e3",
   "metadata": {},
   "source": [
    "The columns with flight number, Time and construction/serial numbers are dropped."
   ]
  },
  {
   "cell_type": "code",
   "execution_count": 11,
   "id": "797ce49a",
   "metadata": {},
   "outputs": [
    {
     "name": "stdout",
     "output_type": "stream",
     "text": [
      "<class 'pandas.core.frame.DataFrame'>\n",
      "Int64Index: 944 entries, 208 to 5265\n",
      "Data columns (total 10 columns):\n",
      " #   Column      Non-Null Count  Dtype  \n",
      "---  ------      --------------  -----  \n",
      " 0   index       944 non-null    int64  \n",
      " 1   Date        944 non-null    object \n",
      " 2   Location    944 non-null    object \n",
      " 3   Operator    944 non-null    object \n",
      " 4   Route       944 non-null    object \n",
      " 5   Type        944 non-null    object \n",
      " 6   Aboard      944 non-null    float64\n",
      " 7   Fatalities  944 non-null    float64\n",
      " 8   Ground      944 non-null    float64\n",
      " 9   Summary     944 non-null    object \n",
      "dtypes: float64(3), int64(1), object(6)\n",
      "memory usage: 81.1+ KB\n"
     ]
    }
   ],
   "source": [
    "# observe updated dataset and confirm drop\n",
    "df.info()"
   ]
  },
  {
   "cell_type": "code",
   "execution_count": 12,
   "id": "45b55924",
   "metadata": {},
   "outputs": [
    {
     "data": {
      "text/plain": [
       "(944, 10)"
      ]
     },
     "execution_count": 12,
     "metadata": {},
     "output_type": "execute_result"
    }
   ],
   "source": [
    "df.shape"
   ]
  },
  {
   "cell_type": "markdown",
   "id": "54ab573e",
   "metadata": {},
   "source": [
    "There are 944 rows and 10 columns."
   ]
  },
  {
   "cell_type": "markdown",
   "id": "97b94485",
   "metadata": {},
   "source": [
    "## Explore Data Analysis and Visualize"
   ]
  },
  {
   "cell_type": "code",
   "execution_count": 13,
   "id": "ab90d4cd",
   "metadata": {},
   "outputs": [],
   "source": [
    "# Define all the labels for the visualization\n",
    "def label(x,y,t):\n",
    "    \"\"\"\n",
    "    Args:\n",
    "      x(str): label of x-axis\n",
    "      y(str): label of y-axis\n",
    "      t(str): label of title\n",
    "    \n",
    "    Returns: \n",
    "      None\n",
    "    \"\"\"\n",
    "    plt.xlabel(x)\n",
    "    plt.ylabel(y)\n",
    "    plt.title()"
   ]
  },
  {
   "cell_type": "markdown",
   "id": "60ac7b64",
   "metadata": {},
   "source": [
    "### 1. What type of aircraft were involved in the most crashes ?"
   ]
  },
  {
   "cell_type": "code",
   "execution_count": 15,
   "id": "0b071887",
   "metadata": {
    "scrolled": true
   },
   "outputs": [
    {
     "data": {
      "text/plain": [
       "Text(0.5, 1.0, 'Top 5 Types of Aircrafts with Most Crashes')"
      ]
     },
     "execution_count": 15,
     "metadata": {},
     "output_type": "execute_result"
    },
    {
     "data": {
      "image/png": "[encoded data removed]",
      "text/plain": [
       "<Figure size 1008x576 with 1 Axes>"
      ]
     },
     "metadata": {
      "needs_background": "light"
     },
     "output_type": "display_data"
    }
   ],
   "source": [
    "#A bar graph of the top 5 Types of aircrafts that Crashed \n",
    "top_aircraft_type = df.Type.value_counts()[0:5]\n",
    "\n",
    "#Plot\n",
    "aircraft_graph = top_aircraft_type.plot.bar(color = '#0be881', fontsize = 12, figsize=[14, 8])\n",
    "\n",
    "#Add labels\n",
    "plt.xlabel('Airline', fontweight = 'bold', fontsize = 12)\n",
    "plt.ylabel('Number of occurrence', fontweight = 'bold', fontsize = 12)\n",
    "plt.title('Top 5 Types of Aircrafts with Most Crashes', fontweight = 'bold', fontsize = 20)"
   ]
  },
  {
   "cell_type": "markdown",
   "id": "dfb0aeb7",
   "metadata": {},
   "source": [
    "From the analysis, the top 5 aircrafts with the most crashes are th Douglaa DC-3 with 54 crashes, de Havilland Canada DHC-6 Twin Other 300 with 13 crahses. McDonald Douglas DC-9-32, Douglas DC-6B and Douglas DC-4 all recorded 12,11, and 8 crashes respectively. "
   ]
  },
  {
   "cell_type": "markdown",
   "id": "5daa3b7c",
   "metadata": {},
   "source": [
    "### 2. What is the correlation between Fatalities of Passengers to Numbr Aboard ?"
   ]
  },
  {
   "cell_type": "code",
   "execution_count": 16,
   "id": "cb2843aa",
   "metadata": {
    "scrolled": true
   },
   "outputs": [
    {
     "name": "stderr",
     "output_type": "stream",
     "text": [
      "*c* argument looks like a single numeric RGB or RGBA sequence, which should be avoided as value-mapping will have precedence in case its length matches with *x* & *y*.  Please use the *color* keyword-argument or provide a 2D array with a single row if you intend to specify the same RGB or RGBA value for all points.\n"
     ]
    },
    {
     "data": {
      "image/png": "[encoded data removed]",
      "text/plain": [
       "<Figure size 1008x576 with 1 Axes>"
      ]
     },
     "metadata": {
      "needs_background": "light"
     },
     "output_type": "display_data"
    }
   ],
   "source": [
    "#The correlation of Location vs Fatalities\n",
    "df.plot(x = 'Aboard', y = 'Fatalities', kind = 'scatter', title = ' Correlation of Number Aboard to Fatalities', figsize=[14, 8]);"
   ]
  },
  {
   "cell_type": "markdown",
   "id": "5e73a1d5",
   "metadata": {},
   "source": [
    "The graph depicts the correlation between the nnumber of passenges aboard to the respective fatalities accrued which is a weak positive correlation with multiple outliers. The number of fatalities increased with number of passengers aboard."
   ]
  },
  {
   "cell_type": "markdown",
   "id": "44072e79",
   "metadata": {},
   "source": [
    "### 3. Which Locations Recorded the Most Crashes ?"
   ]
  },
  {
   "cell_type": "code",
   "execution_count": 17,
   "id": "b52553fe",
   "metadata": {},
   "outputs": [
    {
     "data": {
      "text/plain": [
       "Text(0.5, 1.0, 'Top 5 Locations with Most Crashes')"
      ]
     },
     "execution_count": 17,
     "metadata": {},
     "output_type": "execute_result"
    },
    {
     "data": {
      "image/png": "[encoded data removed]",
      "text/plain": [
       "<Figure size 1008x576 with 1 Axes>"
      ]
     },
     "metadata": {
      "needs_background": "light"
     },
     "output_type": "display_data"
    }
   ],
   "source": [
    "#A bar graph of the top 5 Locations of Airline Crashes \n",
    "airline_location = df.Location.value_counts()[0:5]\n",
    "\n",
    "#Plot\n",
    "location_graph = airline_location.plot.bar(color = '#0c2461', fontsize = 12, figsize=[14, 8])\n",
    "\n",
    "#Add labels\n",
    "plt.xlabel('Location', fontweight = 'bold', fontsize = 12)\n",
    "plt.ylabel('Number of Crashes', fontweight = 'bold', fontsize = 12)\n",
    "plt.title('Top 5 Locations with Most Crashes', fontweight = 'bold', fontsize = 20)"
   ]
  },
  {
   "cell_type": "markdown",
   "id": "9cd343b8",
   "metadata": {},
   "source": [
    "The visualization above depicts the top 5 locations with the most plane crashes are Chicago, Illinois with 8 crashes each where as New York, New York recorded 6. New York City, New York had 4 crashes with Moscow, Russia and JFK Airport, New York, New York both accumulating 3 crashes."
   ]
  },
  {
   "cell_type": "markdown",
   "id": "38567485",
   "metadata": {},
   "source": [
    "### 4. Which Operating Airlines Recorded the Most Crashes ?"
   ]
  },
  {
   "cell_type": "code",
   "execution_count": 18,
   "id": "ca025e07",
   "metadata": {},
   "outputs": [
    {
     "data": {
      "text/plain": [
       "Text(0.5, 1.0, 'Top 5 Operators with Most Crashes')"
      ]
     },
     "execution_count": 18,
     "metadata": {},
     "output_type": "execute_result"
    },
    {
     "data": {
      "image/png": "[encoded data removed]",
      "text/plain": [
       "<Figure size 1008x576 with 1 Axes>"
      ]
     },
     "metadata": {
      "needs_background": "light"
     },
     "output_type": "display_data"
    }
   ],
   "source": [
    "operator_deaths = df.Operator.value_counts()[0:5]\n",
    "\n",
    "#Plot\n",
    "operator_graph = operator_deaths.plot.bar(color = '#EA2027', fontsize = 12, figsize=[14, 8])\n",
    "\n",
    "#Add labels\n",
    "plt.xlabel('Operator', fontweight = 'bold', fontsize = 12)\n",
    "plt.ylabel('Number of Crashes', fontweight = 'bold', fontsize = 12)\n",
    "plt.title('Top 5 Operators with Most Crashes', fontweight = 'bold', fontsize = 20)"
   ]
  },
  {
   "cell_type": "markdown",
   "id": "86374700",
   "metadata": {},
   "source": [
    "The above visualization shows the operating airlines with the most crashes are United Airlines with 36 crashes followed by Pan American World Airlines with 30 crashes. American Airlines had 26 crashes, with Eastern Airlines and Northwest Orient Airlines both amassing 20 crashes each."
   ]
  },
  {
   "cell_type": "code",
   "execution_count": null,
   "id": "46e4a336",
   "metadata": {},
   "outputs": [],
   "source": []
  }
 ],
 "metadata": {
  "kernelspec": {
   "display_name": "Python 3 (ipykernel)",
   "language": "python",
   "name": "python3"
  },
  "language_info": {
   "codemirror_mode": {
    "name": "ipython",
    "version": 3
   },
   "file_extension": ".py",
   "mimetype": "text/x-python",
   "name": "python",
   "nbconvert_exporter": "python",
   "pygments_lexer": "ipython3",
   "version": "3.9.7"
  }
 },
 "nbformat": 4,
 "nbformat_minor": 5
}
